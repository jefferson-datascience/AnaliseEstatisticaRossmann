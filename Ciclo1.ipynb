{
 "cells": [
  {
   "cell_type": "markdown",
   "metadata": {},
   "source": [
    "## Problema de Negócio"
   ]
  },
  {
   "cell_type": "markdown",
   "metadata": {},
   "source": [
    "A Rossmann opera mais de 3.000 drogarias em 7 países europeus. Atualmente, os gerentes das lojas Rossmann são responsáveis por prever suas vendas diárias com até seis semanas de antecedência. As vendas das lojas são influenciadas por muitos fatores, incluindo promoções, competição, feriados escolares e estaduais, sazonalidade e localidade. Com milhares de gerentes individuais prevendo as vendas com base em suas circunstâncias únicas, a precisão dos resultados pode ser bastante variada.\n",
    "\n",
    "Para a construção de um plano estratégico para o alavancamento das vendas, os gerentes da Rossmann solicitou ao superientendente uma análise de quais fatores podem impactar positivamente ou negativamente as vendas. Com informações dessa natureza, os gerentes da Rossmann conseguem ajustar os planos com o objetivo de obterem o maior retorno possível.\n",
    "\n",
    "Sendo assim, nosso objetivo é estruturar uma análise para responder a esses questionamentos para que o superintendente junto de seus gerentes criem planos de ações mais personalizados e estruturados."
   ]
  },
  {
   "cell_type": "markdown",
   "metadata": {},
   "source": []
  }
 ],
 "metadata": {
  "language_info": {
   "name": "python"
  }
 },
 "nbformat": 4,
 "nbformat_minor": 2
}
